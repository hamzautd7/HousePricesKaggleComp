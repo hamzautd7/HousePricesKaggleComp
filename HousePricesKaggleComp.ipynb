{
  "nbformat": 4,
  "nbformat_minor": 0,
  "metadata": {
    "kernelspec": {
      "display_name": "Python 3",
      "language": "python",
      "name": "python3"
    },
    "language_info": {
      "codemirror_mode": {
        "name": "ipython",
        "version": 3
      },
      "file_extension": ".py",
      "mimetype": "text/x-python",
      "name": "python",
      "nbconvert_exporter": "python",
      "pygments_lexer": "ipython3",
      "version": "3.7.4"
    },
    "colab": {
      "name": "HousePricesKaggleComp.ipynb",
      "provenance": [],
      "collapsed_sections": []
    }
  },
  "cells": [
    {
      "cell_type": "code",
      "metadata": {
        "id": "ttrrM5bxken5",
        "colab_type": "code",
        "colab": {}
      },
      "source": [
        "%load_ext autoreload\n",
        "%autoreload 2\n",
        "\n",
        "%matplotlib inline"
      ],
      "execution_count": 0,
      "outputs": []
    },
    {
      "cell_type": "code",
      "metadata": {
        "id": "CdL0F5M5keoB",
        "colab_type": "code",
        "colab": {}
      },
      "source": [
        "import sys\n",
        "sys.path.append ('../')\n",
        "from fastai.imports import *\n",
        "from fastai.structured import *\n",
        "\n",
        "from pandas_summary import DataFrameSummary\n",
        "from sklearn.ensemble import RandomForestRegressor, RandomForestClassifier\n",
        "from IPython.display import display\n",
        "\n",
        "from sklearn import metrics"
      ],
      "execution_count": 0,
      "outputs": []
    },
    {
      "cell_type": "code",
      "metadata": {
        "id": "M2Y8cJZekeoG",
        "colab_type": "code",
        "colab": {}
      },
      "source": [
        "import seaborn as sns\n",
        "from sklearn.model_selection import train_test_split\n",
        "from sklearn.linear_model import Lasso, ElasticNet, LinearRegression"
      ],
      "execution_count": 0,
      "outputs": []
    },
    {
      "cell_type": "code",
      "metadata": {
        "id": "u1F2uCrnkeoK",
        "colab_type": "code",
        "colab": {}
      },
      "source": [
        "PATH = \"datasets/\""
      ],
      "execution_count": 0,
      "outputs": []
    },
    {
      "cell_type": "code",
      "metadata": {
        "id": "-VjItrgWkeoP",
        "colab_type": "code",
        "colab": {}
      },
      "source": [
        "df_train2 = pd.read_csv(f'{PATH}train.csv', low_memory=False)"
      ],
      "execution_count": 0,
      "outputs": []
    },
    {
      "cell_type": "code",
      "metadata": {
        "id": "8zXapuOAkeoU",
        "colab_type": "code",
        "colab": {}
      },
      "source": [
        "df_test1 = pd.read_csv(f'{PATH}test.csv', low_memory=False)\n",
        "ID = df_test1.Id"
      ],
      "execution_count": 0,
      "outputs": []
    },
    {
      "cell_type": "code",
      "metadata": {
        "id": "rEi0VQJDkeoZ",
        "colab_type": "code",
        "colab": {}
      },
      "source": [
        "def display_all(df):\n",
        "    with pd.option_context(\"display.max_rows\", 1000, \"display.max_columns\", 1000): \n",
        "        display(df)"
      ],
      "execution_count": 0,
      "outputs": []
    },
    {
      "cell_type": "code",
      "metadata": {
        "id": "pP0evkMTkeoe",
        "colab_type": "code",
        "colab": {},
        "outputId": "428e8799-1571-43c6-bb82-f54fe6e7426d"
      },
      "source": [
        "df_main = pd.concat([df_train, df_test], axis=0).reset_index(drop=True)"
      ],
      "execution_count": 0,
      "outputs": [
        {
          "output_type": "stream",
          "text": [
            "C:\\Users\\M.Hamza.Naveed\\Anaconda3\\lib\\site-packages\\ipykernel_launcher.py:1: FutureWarning: Sorting because non-concatenation axis is not aligned. A future version\n",
            "of pandas will change to not sort by default.\n",
            "\n",
            "To accept the future behavior, pass 'sort=False'.\n",
            "\n",
            "To retain the current behavior and silence the warning, pass 'sort=True'.\n",
            "\n",
            "  \"\"\"Entry point for launching an IPython kernel.\n"
          ],
          "name": "stderr"
        }
      ]
    },
    {
      "cell_type": "code",
      "metadata": {
        "id": "BgnU7Hn2keol",
        "colab_type": "code",
        "colab": {}
      },
      "source": [
        "df_main.drop('Id', axis=1, inplace=True )"
      ],
      "execution_count": 0,
      "outputs": []
    },
    {
      "cell_type": "code",
      "metadata": {
        "id": "BLzB9f4Vkeoo",
        "colab_type": "code",
        "colab": {},
        "outputId": "9418f822-8615-4b04-e6e6-dea079827047"
      },
      "source": [
        "missing = (df_main.isnull().sum()[df_main.isnull().sum()>0] / len(df_main)).sort_values(ascending=False)\n",
        "plt.figure(figsize=(15,10))\n",
        "sns.barplot(x=missing[missing>0].index, y=missing[missing>0].values)\n",
        "plt.xticks(rotation=90)\n",
        "plt.grid(b=True, color='lightgrey')"
      ],
      "execution_count": 0,
      "outputs": [
        {
          "output_type": "display_data",
          "data": {
            "image/png": "[encoded data removed]",
            "text/plain": [
              "<Figure size 1080x720 with 1 Axes>"
            ]
          },
          "metadata": {
            "tags": [],
            "needs_background": "light"
          }
        }
      ]
    },
    {
      "cell_type": "code",
      "metadata": {
        "id": "ZGO3rb_1keos",
        "colab_type": "code",
        "colab": {}
      },
      "source": [
        "train_cats(df_main)"
      ],
      "execution_count": 0,
      "outputs": []
    },
    {
      "cell_type": "code",
      "metadata": {
        "id": "yvE_i1OEkeov",
        "colab_type": "code",
        "colab": {},
        "outputId": "8951c380-a81e-4c60-b805-fecb1c41e0ad"
      },
      "source": [
        "df_main.GarageQual.cat.add_categories('None', inplace=True)\n",
        "df_main.GarageCond.cat.add_categories('None')\n",
        "df_main.GarageFinish.cat.add_categories('None')\n",
        "df_main.PoolQC.cat.add_categories('None')\n",
        "df_main.Alley.cat.add_categories('None')"
      ],
      "execution_count": 0,
      "outputs": [
        {
          "output_type": "execute_result",
          "data": {
            "text/plain": [
              "0       NaN\n",
              "1       NaN\n",
              "2       NaN\n",
              "3       NaN\n",
              "4       NaN\n",
              "       ... \n",
              "2914    NaN\n",
              "2915    NaN\n",
              "2916    NaN\n",
              "2917    NaN\n",
              "2918    NaN\n",
              "Name: Alley, Length: 2919, dtype: category\n",
              "Categories (3, object): [Grvl < Pave < None]"
            ]
          },
          "metadata": {
            "tags": []
          },
          "execution_count": 37
        }
      ]
    },
    {
      "cell_type": "code",
      "metadata": {
        "id": "tQXeKpaWkeoz",
        "colab_type": "code",
        "colab": {},
        "outputId": "1c67c06b-30bf-4b07-cd5e-700a572e2874"
      },
      "source": [
        "df_main.GarageQual.unique()"
      ],
      "execution_count": 0,
      "outputs": [
        {
          "output_type": "execute_result",
          "data": {
            "text/plain": [
              "[TA, Fa, Gd, NaN, Ex, Po]\n",
              "Categories (5, object): [Ex < Fa < Gd < Po < TA]"
            ]
          },
          "metadata": {
            "tags": []
          },
          "execution_count": 38
        }
      ]
    },
    {
      "cell_type": "code",
      "metadata": {
        "id": "U4HaL3PVkeo4",
        "colab_type": "code",
        "colab": {}
      },
      "source": [
        "ordinalColumns = [ 'GarageCond', 'GarageFinish', 'PoolQC', 'Alley']\n",
        "for col in ordinalColumns:\n",
        "    df_main[col].fillna('None', inplace=True)"
      ],
      "execution_count": 0,
      "outputs": []
    },
    {
      "cell_type": "code",
      "metadata": {
        "id": "oK8EePA8keo8",
        "colab_type": "code",
        "colab": {}
      },
      "source": [
        "df_main.GarageCond.cat.add_categories(new_categories = 'None', inplace = True)\n",
        "df_main.GarageFinish.cat.add_categories(new_categories = 'None', inplace = True)\n",
        "df_main.PoolQC.cat.add_categories(new_categories = 'None', inplace = True)\n",
        "df_main.Alley.cat.add_categories(new_categories = 'None', inplace = True)"
      ],
      "execution_count": 0,
      "outputs": []
    },
    {
      "cell_type": "code",
      "metadata": {
        "id": "O_NDsmI6kepA",
        "colab_type": "code",
        "colab": {},
        "outputId": "484ac5ab-854e-45a7-cbe4-32689bcb954a"
      },
      "source": [
        "df_main.GarageCond.cat.categories"
      ],
      "execution_count": 0,
      "outputs": [
        {
          "output_type": "execute_result",
          "data": {
            "text/plain": [
              "Index(['Ex', 'Fa', 'Gd', 'Po', 'TA', 'None'], dtype='object')"
            ]
          },
          "metadata": {
            "tags": []
          },
          "execution_count": 69
        }
      ]
    },
    {
      "cell_type": "code",
      "metadata": {
        "id": "o-chf1EjkepF",
        "colab_type": "code",
        "colab": {}
      },
      "source": [
        "df_main.Alley.cat.set_categories(['Grvl','Pave', 'None'], ordered=True, inplace=True)"
      ],
      "execution_count": 0,
      "outputs": []
    },
    {
      "cell_type": "code",
      "metadata": {
        "id": "2hzApPfYkepI",
        "colab_type": "code",
        "colab": {}
      },
      "source": [
        "df_main.GarageFinish.cat.set_categories(['Fin', 'RFn', 'Unf', 'None'], ordered=True, inplace=True)"
      ],
      "execution_count": 0,
      "outputs": []
    },
    {
      "cell_type": "code",
      "metadata": {
        "id": "43Cem1BQkepL",
        "colab_type": "code",
        "colab": {}
      },
      "source": [
        "df_main.MiscFeature.fillna('Othr', inplace=True)"
      ],
      "execution_count": 0,
      "outputs": []
    },
    {
      "cell_type": "code",
      "metadata": {
        "id": "PnUmesLWkepN",
        "colab_type": "code",
        "colab": {}
      },
      "source": [
        "df_main.Fence.cat.add_categories(new_categories = 'None', inplace = True)\n",
        "df_main.Fence.cat.set_categories(['GdPrv', 'MnPrv', 'GdWo',  'MnWw', 'None'], ordered=True, inplace=True)\n",
        "df_main.Fence.fillna('None', inplace=True)"
      ],
      "execution_count": 0,
      "outputs": []
    },
    {
      "cell_type": "code",
      "metadata": {
        "id": "Y-AqBtz-kepP",
        "colab_type": "code",
        "colab": {}
      },
      "source": [
        "df_main.FireplaceQu.cat.set_categories(['Ex','Gd','TA','Fa','Po', 'None'], ordered=True, inplace=True)\n",
        "df_main.FireplaceQu.fillna('None', inplace=True)"
      ],
      "execution_count": 0,
      "outputs": []
    },
    {
      "cell_type": "code",
      "metadata": {
        "id": "l3FEPMo8kepS",
        "colab_type": "code",
        "colab": {},
        "outputId": "3a3687ad-bd35-4463-c34f-bd240eebfd6e"
      },
      "source": [
        "df_main.FireplaceQu.cat.categories"
      ],
      "execution_count": 0,
      "outputs": [
        {
          "output_type": "execute_result",
          "data": {
            "text/plain": [
              "Index(['Ex', 'Gd', 'TA', 'Fa', 'Po', 'None'], dtype='object')"
            ]
          },
          "metadata": {
            "tags": []
          },
          "execution_count": 115
        }
      ]
    },
    {
      "cell_type": "code",
      "metadata": {
        "id": "AivRnk69kepU",
        "colab_type": "code",
        "colab": {}
      },
      "source": [
        "df_main.GarageType.cat.add_categories(new_categories = 'None', inplace = True)\n",
        "df_main.GarageType.cat.set_categories(['2Types', 'Attchd', 'Basment', 'BuiltIn', 'CarPort', 'Detchd','None'], inplace=True)\n",
        "df_main.GarageType.fillna('None', inplace=True)\n"
      ],
      "execution_count": 0,
      "outputs": []
    },
    {
      "cell_type": "code",
      "metadata": {
        "id": "8wlJBNEskepW",
        "colab_type": "code",
        "colab": {}
      },
      "source": [
        "df_main.BsmtCond.cat.add_categories(new_categories = 'None', inplace = True)\n",
        "df_main.BsmtCond.cat.set_categories(['Ex','Gd','TA','Fa','Po', 'None'], ordered=True, inplace=True)\n",
        "df_main.BsmtCond.fillna('None', inplace=True)"
      ],
      "execution_count": 0,
      "outputs": []
    },
    {
      "cell_type": "code",
      "metadata": {
        "id": "KSVaysQKkepY",
        "colab_type": "code",
        "colab": {}
      },
      "source": [
        "df_main.BsmtExposure.cat.add_categories(new_categories = 'None', inplace = True)\n",
        "df_main.BsmtExposure.cat.set_categories(['Gd','Av', 'Mn','No', 'None'], ordered=True, inplace=True)\n",
        "df_main.BsmtExposure.fillna('None', inplace=True)"
      ],
      "execution_count": 0,
      "outputs": []
    },
    {
      "cell_type": "code",
      "metadata": {
        "id": "ClQEbCeckepb",
        "colab_type": "code",
        "colab": {}
      },
      "source": [
        "df_main.BsmtQual.cat.add_categories(new_categories = 'None', inplace = True)\n",
        "df_main.BsmtQual.cat.set_categories(['Ex','Gd','TA','Fa','Po', 'None'], ordered=True, inplace=True)\n",
        "df_main.BsmtQual.fillna('None', inplace=True)"
      ],
      "execution_count": 0,
      "outputs": []
    },
    {
      "cell_type": "code",
      "metadata": {
        "id": "0Z4WF1nJkepe",
        "colab_type": "code",
        "colab": {}
      },
      "source": [
        "df_main.BsmtFinType1.cat.add_categories(new_categories = 'None', inplace = True)\n",
        "df_main.BsmtFinType1.cat.set_categories(['GLQ','ALQ','BLQ','Rec','LwQ','Unf','None'], ordered=True, inplace=True)\n",
        "df_main.BsmtFinType1.fillna('None', inplace=True)"
      ],
      "execution_count": 0,
      "outputs": []
    },
    {
      "cell_type": "code",
      "metadata": {
        "id": "sXvRclVtkepg",
        "colab_type": "code",
        "colab": {}
      },
      "source": [
        "df_main.BsmtFinType2.cat.add_categories(new_categories = 'None', inplace = True)\n",
        "df_main.BsmtFinType2.cat.set_categories(['GLQ','ALQ','BLQ','Rec','LwQ','Unf','None'], ordered=True, inplace=True)\n",
        "df_main.BsmtFinType2.fillna('None', inplace=True)"
      ],
      "execution_count": 0,
      "outputs": []
    },
    {
      "cell_type": "code",
      "metadata": {
        "id": "EYAvOffEkepj",
        "colab_type": "code",
        "colab": {}
      },
      "source": [
        "os.makedirs('tmp', exist_ok=True)\n",
        "df_main.to_feather('tmp/bulldozers-df_main')\n",
        "train_test.to_feather('tmp/bulldozers-train_test')"
      ],
      "execution_count": 0,
      "outputs": []
    },
    {
      "cell_type": "code",
      "metadata": {
        "id": "-sGv6ecDkepm",
        "colab_type": "code",
        "colab": {}
      },
      "source": [
        "df_main = pd.read_feather('tmp/bulldozers-df_main')\n",
        "train_test = pd.read_feather('tmp/bulldozers-train_test')"
      ],
      "execution_count": 0,
      "outputs": []
    },
    {
      "cell_type": "code",
      "metadata": {
        "id": "cq6YsEy3kepo",
        "colab_type": "code",
        "colab": {},
        "outputId": "dce83e22-2029-4af0-b24f-aa9448386e7c"
      },
      "source": [
        "missing = (df_main.isnull().sum()[df_main.isnull().sum()>0] / len(df_main)).sort_values(ascending=False)\n",
        "plt.figure(figsize=(15,10))\n",
        "sns.barplot(x=missing[missing>0].index, y=missing[missing>0].values)\n",
        "plt.xticks(rotation=90)\n",
        "plt.grid(b=True, color='lightgrey')"
      ],
      "execution_count": 0,
      "outputs": [
        {
          "output_type": "display_data",
          "data": {
            "image/png": "[encoded data removed]",
            "text/plain": [
              "<Figure size 1080x720 with 1 Axes>"
            ]
          },
          "metadata": {
            "tags": [],
            "needs_background": "light"
          }
        }
      ]
    },
    {
      "cell_type": "code",
      "metadata": {
        "id": "O2f4kxGpkepq",
        "colab_type": "code",
        "colab": {}
      },
      "source": [
        "SP = df_main.SalePrice\n",
        "df_main.drop('SalePrice', axis=1,inplace = True)\n",
        "train_test.drop('SalePrice', axis=1,inplace = True)\n"
      ],
      "execution_count": 0,
      "outputs": []
    },
    {
      "cell_type": "code",
      "metadata": {
        "id": "zKvfQZcfkeps",
        "colab_type": "code",
        "colab": {},
        "outputId": "63856b76-0540-4d82-8a4e-d64e66aee630"
      },
      "source": [
        "cats = []\n",
        "for x in df_main.columns:\n",
        "    if is_categorical_dtype(df_main[x]):\n",
        "        cats.append(x)\n",
        "cats, len(cats)"
      ],
      "execution_count": 0,
      "outputs": [
        {
          "output_type": "execute_result",
          "data": {
            "text/plain": [
              "(['Alley',\n",
              "  'BldgType',\n",
              "  'BsmtCond',\n",
              "  'BsmtExposure',\n",
              "  'BsmtFinType1',\n",
              "  'BsmtFinType2',\n",
              "  'BsmtQual',\n",
              "  'CentralAir',\n",
              "  'Condition1',\n",
              "  'Condition2',\n",
              "  'Electrical',\n",
              "  'ExterCond',\n",
              "  'ExterQual',\n",
              "  'Exterior1st',\n",
              "  'Exterior2nd',\n",
              "  'Fence',\n",
              "  'FireplaceQu',\n",
              "  'Foundation',\n",
              "  'Functional',\n",
              "  'GarageCond',\n",
              "  'GarageFinish',\n",
              "  'GarageQual',\n",
              "  'GarageType',\n",
              "  'Heating',\n",
              "  'HeatingQC',\n",
              "  'HouseStyle',\n",
              "  'KitchenQual',\n",
              "  'LandContour',\n",
              "  'LandSlope',\n",
              "  'LotConfig',\n",
              "  'LotShape',\n",
              "  'MSZoning',\n",
              "  'MasVnrType',\n",
              "  'MiscFeature',\n",
              "  'Neighborhood',\n",
              "  'PavedDrive',\n",
              "  'PoolQC',\n",
              "  'RoofMatl',\n",
              "  'RoofStyle',\n",
              "  'SaleCondition',\n",
              "  'SaleType',\n",
              "  'Street',\n",
              "  'Utilities'],\n",
              " 43)"
            ]
          },
          "metadata": {
            "tags": []
          },
          "execution_count": 11
        }
      ]
    },
    {
      "cell_type": "code",
      "metadata": {
        "id": "HxegDfqGkepu",
        "colab_type": "code",
        "colab": {},
        "outputId": "111e20d2-ab28-4e0a-894b-5287c63c773a"
      },
      "source": [
        "for cat in cats:\n",
        "    if df_main[cat].isnull().sum() >0:\n",
        "        print(f'{cat}: {df_main[cat].isnull().sum()}')"
      ],
      "execution_count": 0,
      "outputs": [
        {
          "output_type": "stream",
          "text": [
            "Electrical: 1\n",
            "Exterior1st: 1\n",
            "Exterior2nd: 1\n",
            "Functional: 2\n",
            "MSZoning: 4\n",
            "SaleType: 1\n",
            "Utilities: 2\n"
          ],
          "name": "stdout"
        }
      ]
    },
    {
      "cell_type": "code",
      "metadata": {
        "id": "4Rhxs1FRkepw",
        "colab_type": "code",
        "colab": {}
      },
      "source": [
        "df_main.KitchenQual.cat.add_categories(new_categories = 'None', inplace = True)\n",
        "df_main.KitchenQual.cat.set_categories(['Ex','Gd','TA','Fa','Po', 'None'], ordered=True, inplace=True)\n",
        "df_main.KitchenQual.fillna('None', inplace=True)"
      ],
      "execution_count": 0,
      "outputs": []
    },
    {
      "cell_type": "code",
      "metadata": {
        "id": "DeiB3-zWkepy",
        "colab_type": "code",
        "colab": {},
        "outputId": "5218a01b-75a1-467c-ee59-1bc47181b144"
      },
      "source": [
        "train_test['SalePrice'] = SP\n",
        "train_test['SalePrice']"
      ],
      "execution_count": 0,
      "outputs": [
        {
          "output_type": "execute_result",
          "data": {
            "text/plain": [
              "0       208500.0\n",
              "1       181500.0\n",
              "2       223500.0\n",
              "3       140000.0\n",
              "4       250000.0\n",
              "          ...   \n",
              "2914         NaN\n",
              "2915         NaN\n",
              "2916         NaN\n",
              "2917         NaN\n",
              "2918         NaN\n",
              "Name: SalePrice, Length: 2916, dtype: float64"
            ]
          },
          "metadata": {
            "tags": []
          },
          "execution_count": 81
        }
      ]
    },
    {
      "cell_type": "code",
      "metadata": {
        "id": "D_p0_6Sckep0",
        "colab_type": "code",
        "colab": {}
      },
      "source": [
        "df, y, nas = proc_df(df_main,'SalePrice', max_n_cat=7)"
      ],
      "execution_count": 0,
      "outputs": []
    },
    {
      "cell_type": "code",
      "metadata": {
        "id": "tIdB0oz8kep3",
        "colab_type": "code",
        "colab": {},
        "outputId": "19f77a49-e58d-41ea-b281-1cb398cdd0cc"
      },
      "source": [
        "sns.boxplot(df_main.OverallQual, df_main.SalePrice )"
      ],
      "execution_count": 0,
      "outputs": [
        {
          "output_type": "execute_result",
          "data": {
            "text/plain": [
              "<matplotlib.axes._subplots.AxesSubplot at 0x29cadba8b08>"
            ]
          },
          "metadata": {
            "tags": []
          },
          "execution_count": 67
        },
        {
          "output_type": "display_data",
          "data": {
            "image/png": "[encoded data removed]",
            "text/plain": [
              "<Figure size 432x288 with 1 Axes>"
            ]
          },
          "metadata": {
            "tags": [],
            "needs_background": "light"
          }
        }
      ]
    },
    {
      "cell_type": "code",
      "metadata": {
        "id": "9vtyggiikep5",
        "colab_type": "code",
        "colab": {},
        "outputId": "7f071d28-01bf-4ed4-be5b-2b37fd0698e0"
      },
      "source": [
        "index = df_main[(df_main.OverallQual == 10) & (df_main.SalePrice<200000)].index\n",
        "df_main = df_main.drop(index,axis=0)\n",
        "\n",
        "sns.scatterplot(df_main.OverallQual, df_main.SalePrice )"
      ],
      "execution_count": 0,
      "outputs": [
        {
          "output_type": "execute_result",
          "data": {
            "text/plain": [
              "<matplotlib.axes._subplots.AxesSubplot at 0x29cadd5bf48>"
            ]
          },
          "metadata": {
            "tags": []
          },
          "execution_count": 66
        },
        {
          "output_type": "display_data",
          "data": {
            "image/png": "[encoded data removed]",
            "text/plain": [
              "<Figure size 432x288 with 1 Axes>"
            ]
          },
          "metadata": {
            "tags": [],
            "needs_background": "light"
          }
        }
      ]
    },
    {
      "cell_type": "code",
      "metadata": {
        "id": "gWvKO8wekep7",
        "colab_type": "code",
        "colab": {},
        "outputId": "e2c35fc1-26e6-452d-dd5c-7f141b1f3edf"
      },
      "source": [
        "sns.scatterplot(df_main.GarageArea, df_main.SalePrice )"
      ],
      "execution_count": 0,
      "outputs": [
        {
          "output_type": "execute_result",
          "data": {
            "text/plain": [
              "<matplotlib.axes._subplots.AxesSubplot at 0x29cadc75908>"
            ]
          },
          "metadata": {
            "tags": []
          },
          "execution_count": 64
        },
        {
          "output_type": "display_data",
          "data": {
            "image/png": "[encoded data removed]",
            "text/plain": [
              "<Figure size 432x288 with 1 Axes>"
            ]
          },
          "metadata": {
            "tags": [],
            "needs_background": "light"
          }
        }
      ]
    },
    {
      "cell_type": "code",
      "metadata": {
        "id": "7CbA-J3rkep9",
        "colab_type": "code",
        "colab": {},
        "outputId": "a5727c9b-a791-4fa9-e446-4de01ad4c71d"
      },
      "source": [
        "sns.scatterplot(df_main.LotFrontage, df_main.SalePrice )"
      ],
      "execution_count": 0,
      "outputs": [
        {
          "output_type": "execute_result",
          "data": {
            "text/plain": [
              "<matplotlib.axes._subplots.AxesSubplot at 0x29cada4cf88>"
            ]
          },
          "metadata": {
            "tags": []
          },
          "execution_count": 63
        },
        {
          "output_type": "display_data",
          "data": {
            "image/png": "[encoded data removed]",
            "text/plain": [
              "<Figure size 432x288 with 1 Axes>"
            ]
          },
          "metadata": {
            "tags": [],
            "needs_background": "light"
          }
        }
      ]
    },
    {
      "cell_type": "code",
      "metadata": {
        "id": "P3cgybkskep_",
        "colab_type": "code",
        "colab": {},
        "outputId": "2d6d38cb-4ffd-4068-87b5-3eb4ee8a6d96"
      },
      "source": [
        "index = df_main[(df_main.GrLivArea>5000) & (df_main.SalePrice<200000)].index\n",
        "df_main = df_main.drop(index,axis=0)\n",
        "\n",
        "sns.scatterplot(df_main.GrLivArea, df_main.SalePrice )"
      ],
      "execution_count": 0,
      "outputs": [
        {
          "output_type": "execute_result",
          "data": {
            "text/plain": [
              "<matplotlib.axes._subplots.AxesSubplot at 0x29cadb6a448>"
            ]
          },
          "metadata": {
            "tags": []
          },
          "execution_count": 61
        },
        {
          "output_type": "display_data",
          "data": {
            "image/png": "[encoded data removed]",
            "text/plain": [
              "<Figure size 432x288 with 1 Axes>"
            ]
          },
          "metadata": {
            "tags": [],
            "needs_background": "light"
          }
        }
      ]
    },
    {
      "cell_type": "code",
      "metadata": {
        "id": "soQnAVqRkeqB",
        "colab_type": "code",
        "colab": {},
        "outputId": "afd10330-f177-4150-d225-7dc98788c3ad"
      },
      "source": [
        "sns.scatterplot(df_main.YearBuilt, df_main.SalePrice )"
      ],
      "execution_count": 0,
      "outputs": [
        {
          "output_type": "execute_result",
          "data": {
            "text/plain": [
              "<matplotlib.axes._subplots.AxesSubplot at 0x29caef326c8>"
            ]
          },
          "metadata": {
            "tags": []
          },
          "execution_count": 70
        },
        {
          "output_type": "display_data",
          "data": {
            "image/png": "[encoded data removed]",
            "text/plain": [
              "<Figure size 432x288 with 1 Axes>"
            ]
          },
          "metadata": {
            "tags": [],
            "needs_background": "light"
          }
        }
      ]
    },
    {
      "cell_type": "code",
      "metadata": {
        "id": "uTADmeYHkeqD",
        "colab_type": "code",
        "colab": {},
        "outputId": "c1fcbc70-1571-4181-9e7b-338f9d7e40d4"
      },
      "source": [
        "sns.scatterplot(df_main.GarageArea, df_main.SalePrice )"
      ],
      "execution_count": 0,
      "outputs": [
        {
          "output_type": "execute_result",
          "data": {
            "text/plain": [
              "<matplotlib.axes._subplots.AxesSubplot at 0x29caeeb7188>"
            ]
          },
          "metadata": {
            "tags": []
          },
          "execution_count": 68
        },
        {
          "output_type": "display_data",
          "data": {
            "image/png": "[encoded data removed]",
            "text/plain": [
              "<Figure size 432x288 with 1 Axes>"
            ]
          },
          "metadata": {
            "tags": [],
            "needs_background": "light"
          }
        }
      ]
    },
    {
      "cell_type": "code",
      "metadata": {
        "id": "Mvb1CMjEkeqF",
        "colab_type": "code",
        "colab": {}
      },
      "source": [
        "index = df_main[(df_main.GarageArea>1200) & (df_main.SalePrice>300000)].index\n",
        "df_main = df_main.drop(index,axis=0)"
      ],
      "execution_count": 0,
      "outputs": []
    },
    {
      "cell_type": "code",
      "metadata": {
        "id": "DJdpvyOgkeqI",
        "colab_type": "code",
        "colab": {},
        "outputId": "fcaabcee-9116-424a-a2e2-379cffd5e4c0"
      },
      "source": [
        "sns.scatterplot(df_main.YearBuilt, df_main.SalePrice )"
      ],
      "execution_count": 0,
      "outputs": [
        {
          "output_type": "execute_result",
          "data": {
            "text/plain": [
              "<matplotlib.axes._subplots.AxesSubplot at 0x29caf090908>"
            ]
          },
          "metadata": {
            "tags": []
          },
          "execution_count": 79
        },
        {
          "output_type": "display_data",
          "data": {
            "image/png": "[encoded data removed]",
            "text/plain": [
              "<Figure size 432x288 with 1 Axes>"
            ]
          },
          "metadata": {
            "tags": [],
            "needs_background": "light"
          }
        }
      ]
    },
    {
      "cell_type": "code",
      "metadata": {
        "id": "5N_Zfp81keqL",
        "colab_type": "code",
        "colab": {}
      },
      "source": [
        "index = df_main[(df_main.YearBuilt<1900) & (df_main.SalePrice>400000)].index\n",
        "df_main = df_main.drop(index,axis=0)"
      ],
      "execution_count": 0,
      "outputs": []
    },
    {
      "cell_type": "code",
      "metadata": {
        "id": "nrOkXRjckeqN",
        "colab_type": "code",
        "colab": {}
      },
      "source": [
        "from sklearn.metrics import mean_squared_error"
      ],
      "execution_count": 0,
      "outputs": []
    },
    {
      "cell_type": "code",
      "metadata": {
        "id": "MiCglSQjkeqO",
        "colab_type": "code",
        "colab": {}
      },
      "source": [
        "df, y, nas = proc_df(df_main, 'SalePrice', max_n_cat=7)"
      ],
      "execution_count": 0,
      "outputs": []
    },
    {
      "cell_type": "code",
      "metadata": {
        "id": "ax3JTOWdkeqQ",
        "colab_type": "code",
        "colab": {},
        "outputId": "65252d16-2561-4b1a-bb4b-7d8c79cf599c"
      },
      "source": [
        "df = df[:1456]\n",
        "y = y[:1456]\n",
        "df.shape, y.shape, df_main.shape"
      ],
      "execution_count": 0,
      "outputs": [
        {
          "output_type": "execute_result",
          "data": {
            "text/plain": [
              "((1456, 261), (1456,), (2915, 80))"
            ]
          },
          "metadata": {
            "tags": []
          },
          "execution_count": 7
        }
      ]
    },
    {
      "cell_type": "code",
      "metadata": {
        "id": "IIZQtvLskeqR",
        "colab_type": "code",
        "colab": {},
        "outputId": "b4a39de5-3923-4f3e-c020-de53ebf32a86"
      },
      "source": [
        "m = RandomForestRegressor(n_jobs=-1)\n",
        "m.fit(df, y)\n",
        "m.score(df,y)"
      ],
      "execution_count": 0,
      "outputs": [
        {
          "output_type": "stream",
          "text": [
            "C:\\Users\\M.Hamza.Naveed\\Anaconda3\\lib\\site-packages\\sklearn\\ensemble\\forest.py:245: FutureWarning: The default value of n_estimators will change from 10 in version 0.20 to 100 in 0.22.\n",
            "  \"10 in version 0.20 to 100 in 0.22.\", FutureWarning)\n"
          ],
          "name": "stderr"
        },
        {
          "output_type": "execute_result",
          "data": {
            "text/plain": [
              "0.9751766697009102"
            ]
          },
          "metadata": {
            "tags": []
          },
          "execution_count": 8
        }
      ]
    },
    {
      "cell_type": "code",
      "metadata": {
        "id": "vj0UophWkeqT",
        "colab_type": "code",
        "colab": {},
        "outputId": "6cd22f48-a65c-4f11-c3f8-ca2a0e7a7a4b"
      },
      "source": [
        "def split_vals(a,n): return a[:n].copy(), a[n:].copy()\n",
        "\n",
        "n_valid = 356 \n",
        "n_trn = len(df)-n_valid #1459\n",
        "\n",
        "X_train, X_valid = split_vals(df, n_trn)\n",
        "y_train, y_valid = split_vals(y, n_trn)\n",
        "\n",
        "def rmse(x,y): return math.sqrt(((x-y)**2).mean())\n",
        "\n",
        "def print_score(m):\n",
        "    res = [rmse(m.predict(X_train), y_train), rmse(m.predict(X_valid), y_valid),\n",
        "                m.score(X_train, y_train), m.score(X_valid, y_valid)]\n",
        "    if hasattr(m, 'oob_score_'): res.append(m.oob_score_)\n",
        "    print(res)\n",
        "\n",
        "X_train.shape, y_train.shape, X_valid.shape, y_valid.shape"
      ],
      "execution_count": 0,
      "outputs": [
        {
          "output_type": "execute_result",
          "data": {
            "text/plain": [
              "((1100, 261), (1100,), (356, 261), (356,))"
            ]
          },
          "metadata": {
            "tags": []
          },
          "execution_count": 9
        }
      ]
    },
    {
      "cell_type": "code",
      "metadata": {
        "id": "YAAgOpU6keqW",
        "colab_type": "code",
        "colab": {},
        "outputId": "12fc6969-ee87-44a9-f459-8b1bf6e8b1b8"
      },
      "source": [
        "m = RandomForestRegressor(n_estimators=40, min_samples_leaf=3, n_jobs=-1, oob_score=True)\n",
        "    m.fit(X_train, y_train)\n",
        "    print_score(m)"
      ],
      "execution_count": 0,
      "outputs": [
        {
          "output_type": "stream",
          "text": [
            "[14954.88105597713, 29168.446762366162, 0.9641020037079353, 0.8639363903275644, 0.8706111410797998]\n"
          ],
          "name": "stdout"
        }
      ]
    },
    {
      "cell_type": "code",
      "metadata": {
        "id": "6beJAZ89keqb",
        "colab_type": "code",
        "colab": {}
      },
      "source": [
        "y = np.log(y)"
      ],
      "execution_count": 0,
      "outputs": []
    },
    {
      "cell_type": "code",
      "metadata": {
        "id": "dN0KvUQWkeqe",
        "colab_type": "code",
        "colab": {}
      },
      "source": [
        "df.reset_index(drop=True, inplace=True)\n",
        "df.reset_index(drop=True, inplace=True)\n",
        "\n",
        "df_main.to_feather('tmp/bulldozers-dfM')\n",
        "df.to_feather('tmp/bulldozers-df')\n",
        "y.to_feather('tmp/bulldozers-df_main')"
      ],
      "execution_count": 0,
      "outputs": []
    },
    {
      "cell_type": "code",
      "metadata": {
        "id": "AfWfaxldkeql",
        "colab_type": "code",
        "colab": {}
      },
      "source": [
        "df_main = pd.read_feather('tmp/bulldozers-dfM')\n",
        "train_test = pd.read_feather('tmp/bulldozers-train_test')\n",
        "df = pd.read_feather('tmp/bulldozers-df')"
      ],
      "execution_count": 0,
      "outputs": []
    },
    {
      "cell_type": "code",
      "metadata": {
        "id": "8No0DXYKkeqq",
        "colab_type": "code",
        "colab": {},
        "outputId": "8a30b6e1-9b0f-4ee4-9bb2-416433e981c2"
      },
      "source": [
        "fi = rf_feat_importance(m, df); fi[:10]"
      ],
      "execution_count": 0,
      "outputs": [
        {
          "output_type": "execute_result",
          "data": {
            "text/html": [
              "<div>\n",
              "<style scoped>\n",
              "    .dataframe tbody tr th:only-of-type {\n",
              "        vertical-align: middle;\n",
              "    }\n",
              "\n",
              "    .dataframe tbody tr th {\n",
              "        vertical-align: top;\n",
              "    }\n",
              "\n",
              "    .dataframe thead th {\n",
              "        text-align: right;\n",
              "    }\n",
              "</style>\n",
              "<table border=\"1\" class=\"dataframe\">\n",
              "  <thead>\n",
              "    <tr style=\"text-align: right;\">\n",
              "      <th></th>\n",
              "      <th>cols</th>\n",
              "      <th>imp</th>\n",
              "    </tr>\n",
              "  </thead>\n",
              "  <tbody>\n",
              "    <tr>\n",
              "      <td>33</td>\n",
              "      <td>OverallQual</td>\n",
              "      <td>0.590126</td>\n",
              "    </tr>\n",
              "    <tr>\n",
              "      <td>19</td>\n",
              "      <td>GrLivArea</td>\n",
              "      <td>0.114932</td>\n",
              "    </tr>\n",
              "    <tr>\n",
              "      <td>39</td>\n",
              "      <td>TotalBsmtSF</td>\n",
              "      <td>0.046506</td>\n",
              "    </tr>\n",
              "    <tr>\n",
              "      <td>0</td>\n",
              "      <td>1stFlrSF</td>\n",
              "      <td>0.033890</td>\n",
              "    </tr>\n",
              "    <tr>\n",
              "      <td>4</td>\n",
              "      <td>BsmtFinSF1</td>\n",
              "      <td>0.030250</td>\n",
              "    </tr>\n",
              "    <tr>\n",
              "      <td>17</td>\n",
              "      <td>GarageCars</td>\n",
              "      <td>0.022024</td>\n",
              "    </tr>\n",
              "    <tr>\n",
              "      <td>38</td>\n",
              "      <td>TotRmsAbvGrd</td>\n",
              "      <td>0.018119</td>\n",
              "    </tr>\n",
              "    <tr>\n",
              "      <td>23</td>\n",
              "      <td>LotArea</td>\n",
              "      <td>0.017033</td>\n",
              "    </tr>\n",
              "    <tr>\n",
              "      <td>16</td>\n",
              "      <td>GarageArea</td>\n",
              "      <td>0.012860</td>\n",
              "    </tr>\n",
              "    <tr>\n",
              "      <td>41</td>\n",
              "      <td>YearBuilt</td>\n",
              "      <td>0.010195</td>\n",
              "    </tr>\n",
              "  </tbody>\n",
              "</table>\n",
              "</div>"
            ],
            "text/plain": [
              "            cols       imp\n",
              "33   OverallQual  0.590126\n",
              "19     GrLivArea  0.114932\n",
              "39   TotalBsmtSF  0.046506\n",
              "0       1stFlrSF  0.033890\n",
              "4     BsmtFinSF1  0.030250\n",
              "17    GarageCars  0.022024\n",
              "38  TotRmsAbvGrd  0.018119\n",
              "23       LotArea  0.017033\n",
              "16    GarageArea  0.012860\n",
              "41     YearBuilt  0.010195"
            ]
          },
          "metadata": {
            "tags": []
          },
          "execution_count": 12
        }
      ]
    },
    {
      "cell_type": "code",
      "metadata": {
        "id": "uG9_JRsekeqs",
        "colab_type": "code",
        "colab": {}
      },
      "source": [
        "def plot_fi(fi): return fi.plot('cols', 'imp', 'barh', figsize=(12,7), legend=False)"
      ],
      "execution_count": 0,
      "outputs": []
    },
    {
      "cell_type": "code",
      "metadata": {
        "id": "vRolD3Qmkeqv",
        "colab_type": "code",
        "colab": {}
      },
      "source": [
        "dfNew = df_main.copy()"
      ],
      "execution_count": 0,
      "outputs": []
    },
    {
      "cell_type": "code",
      "metadata": {
        "id": "57ocmBGUkeqx",
        "colab_type": "code",
        "colab": {},
        "outputId": "37f42eff-79ed-40a2-8330-ad3c0ba0cc60"
      },
      "source": [
        "col  = dfNew.columns\n",
        "res = [i for i in col if 'Porch' in i]\n",
        "res\n",
        "dfNew.Fireplaces"
      ],
      "execution_count": 0,
      "outputs": [
        {
          "output_type": "execute_result",
          "data": {
            "text/plain": [
              "0       0\n",
              "1       1\n",
              "2       1\n",
              "3       1\n",
              "4       1\n",
              "       ..\n",
              "2910    0\n",
              "2911    0\n",
              "2912    1\n",
              "2913    0\n",
              "2914    1\n",
              "Name: Fireplaces, Length: 2915, dtype: int64"
            ]
          },
          "metadata": {
            "tags": []
          },
          "execution_count": 39
        }
      ]
    },
    {
      "cell_type": "code",
      "metadata": {
        "id": "APefjG9wkeq1",
        "colab_type": "code",
        "colab": {},
        "outputId": "dc76862c-d093-43ac-eccb-8c3ee2b643ae"
      },
      "source": [
        "dfNew['TotalFloorsSF'] = dfNew['1stFlrSF'] + dfNew['2ndFlrSF']\n",
        "dfNew['TotalPorchSF'] = dfNew.OpenPorchSF + dfNew.EnclosedPorch + dfNew.OpenPorchSF + dfNew.ScreenPorch + dfNew.WoodDeckSF\n",
        "dfNew['TotalBaths'] = dfNew.BsmtFullBath + (0.5* dfNew.BsmtHalfBath) + dfNew.FullBath + (0.5 * dfNew.HalfBath)\n",
        "dfNew['TotalSF'] = dfNew.GrLivArea + dfNew.TotalBsmtSF \n",
        "dfNew['Age'] =     dfNew.YrSold - dfNew.YearBuilt\n",
        "\n",
        "dfNew.shape"
      ],
      "execution_count": 0,
      "outputs": [
        {
          "output_type": "execute_result",
          "data": {
            "text/plain": [
              "(2915, 85)"
            ]
          },
          "metadata": {
            "tags": []
          },
          "execution_count": 32
        }
      ]
    },
    {
      "cell_type": "code",
      "metadata": {
        "id": "eF9RWBxokeq4",
        "colab_type": "code",
        "colab": {}
      },
      "source": [
        "\n",
        "dfNew['HasPool'] = dfNew.PoolQC.map(lambda x: 0 if x=='None' else 1)\n",
        "dfNew['HasGarage'] = dfNew.GarageFinish.map(lambda x: 0 if x=='None' else 1)\n",
        "dfNew['HasFireplace'] = dfNew.Fireplaces.map(lambda x: 1 if x>0 else 0)\n",
        "dfNew['HasBasement'] = dfNew.TotalBsmtSF.map(lambda x: 1 if x>0 else 0)\n",
        "dfNew['AllStoriesFinished'] = dfNew.HouseStyle.map(lambda x: 0 if (x=='1.5Unf' or x=='2.5Unf') else 1)\n",
        "dfNew['CanHold2Cars'] = dfNew.GarageCars.map(lambda x: 1 if x>=2 else 0)\n",
        "dfNew['AfterCrisis'] = dfNew.YrSold.map(lambda x: 1 if x>=2008 else 0) \n"
      ],
      "execution_count": 0,
      "outputs": []
    },
    {
      "cell_type": "code",
      "metadata": {
        "id": "M8TK4umfkeq6",
        "colab_type": "code",
        "colab": {},
        "outputId": "38a3dd44-ffe6-491c-e02c-31a3b72dc383"
      },
      "source": [
        "dfNew[dfNew.HasPool == 1]"
      ],
      "execution_count": 0,
      "outputs": [
        {
          "output_type": "execute_result",
          "data": {
            "text/html": [
              "<div>\n",
              "<style scoped>\n",
              "    .dataframe tbody tr th:only-of-type {\n",
              "        vertical-align: middle;\n",
              "    }\n",
              "\n",
              "    .dataframe tbody tr th {\n",
              "        vertical-align: top;\n",
              "    }\n",
              "\n",
              "    .dataframe thead th {\n",
              "        text-align: right;\n",
              "    }\n",
              "</style>\n",
              "<table border=\"1\" class=\"dataframe\">\n",
              "  <thead>\n",
              "    <tr style=\"text-align: right;\">\n",
              "      <th></th>\n",
              "      <th>1stFlrSF</th>\n",
              "      <th>2ndFlrSF</th>\n",
              "      <th>3SsnPorch</th>\n",
              "      <th>Alley</th>\n",
              "      <th>BedroomAbvGr</th>\n",
              "      <th>BldgType</th>\n",
              "      <th>BsmtCond</th>\n",
              "      <th>BsmtExposure</th>\n",
              "      <th>BsmtFinSF1</th>\n",
              "      <th>BsmtFinSF2</th>\n",
              "      <th>...</th>\n",
              "      <th>TotalBaths</th>\n",
              "      <th>TotalSF</th>\n",
              "      <th>Age</th>\n",
              "      <th>HasPool</th>\n",
              "      <th>HasGarage</th>\n",
              "      <th>HasFireplace</th>\n",
              "      <th>HasBasement</th>\n",
              "      <th>AllStoriesFinished</th>\n",
              "      <th>CanHold2Cars</th>\n",
              "      <th>AfterCrisis</th>\n",
              "    </tr>\n",
              "  </thead>\n",
              "  <tbody>\n",
              "    <tr>\n",
              "      <td>196</td>\n",
              "      <td>1360</td>\n",
              "      <td>1360</td>\n",
              "      <td>0</td>\n",
              "      <td>None</td>\n",
              "      <td>4</td>\n",
              "      <td>1Fam</td>\n",
              "      <td>TA</td>\n",
              "      <td>No</td>\n",
              "      <td>1036.0</td>\n",
              "      <td>184.0</td>\n",
              "      <td>...</td>\n",
              "      <td>3.5</td>\n",
              "      <td>4472.0</td>\n",
              "      <td>88</td>\n",
              "      <td>1</td>\n",
              "      <td>1</td>\n",
              "      <td>1</td>\n",
              "      <td>1</td>\n",
              "      <td>1</td>\n",
              "      <td>1</td>\n",
              "      <td>0</td>\n",
              "    </tr>\n",
              "    <tr>\n",
              "      <td>808</td>\n",
              "      <td>1309</td>\n",
              "      <td>0</td>\n",
              "      <td>0</td>\n",
              "      <td>None</td>\n",
              "      <td>3</td>\n",
              "      <td>1Fam</td>\n",
              "      <td>TA</td>\n",
              "      <td>No</td>\n",
              "      <td>663.0</td>\n",
              "      <td>377.0</td>\n",
              "      <td>...</td>\n",
              "      <td>2.5</td>\n",
              "      <td>2349.0</td>\n",
              "      <td>32</td>\n",
              "      <td>1</td>\n",
              "      <td>1</td>\n",
              "      <td>1</td>\n",
              "      <td>1</td>\n",
              "      <td>1</td>\n",
              "      <td>1</td>\n",
              "      <td>0</td>\n",
              "    </tr>\n",
              "    <tr>\n",
              "      <td>1167</td>\n",
              "      <td>1118</td>\n",
              "      <td>0</td>\n",
              "      <td>0</td>\n",
              "      <td>None</td>\n",
              "      <td>3</td>\n",
              "      <td>1Fam</td>\n",
              "      <td>TA</td>\n",
              "      <td>Av</td>\n",
              "      <td>522.0</td>\n",
              "      <td>0.0</td>\n",
              "      <td>...</td>\n",
              "      <td>2.0</td>\n",
              "      <td>2214.0</td>\n",
              "      <td>31</td>\n",
              "      <td>1</td>\n",
              "      <td>1</td>\n",
              "      <td>1</td>\n",
              "      <td>1</td>\n",
              "      <td>1</td>\n",
              "      <td>0</td>\n",
              "      <td>1</td>\n",
              "    </tr>\n",
              "    <tr>\n",
              "      <td>1179</td>\n",
              "      <td>2411</td>\n",
              "      <td>2065</td>\n",
              "      <td>0</td>\n",
              "      <td>None</td>\n",
              "      <td>4</td>\n",
              "      <td>1Fam</td>\n",
              "      <td>TA</td>\n",
              "      <td>Av</td>\n",
              "      <td>2096.0</td>\n",
              "      <td>0.0</td>\n",
              "      <td>...</td>\n",
              "      <td>4.5</td>\n",
              "      <td>6872.0</td>\n",
              "      <td>11</td>\n",
              "      <td>1</td>\n",
              "      <td>1</td>\n",
              "      <td>1</td>\n",
              "      <td>1</td>\n",
              "      <td>1</td>\n",
              "      <td>1</td>\n",
              "      <td>0</td>\n",
              "    </tr>\n",
              "    <tr>\n",
              "      <td>1382</td>\n",
              "      <td>1392</td>\n",
              "      <td>1392</td>\n",
              "      <td>0</td>\n",
              "      <td>None</td>\n",
              "      <td>5</td>\n",
              "      <td>1Fam</td>\n",
              "      <td>TA</td>\n",
              "      <td>No</td>\n",
              "      <td>790.0</td>\n",
              "      <td>469.0</td>\n",
              "      <td>...</td>\n",
              "      <td>4.5</td>\n",
              "      <td>4176.0</td>\n",
              "      <td>28</td>\n",
              "      <td>1</td>\n",
              "      <td>1</td>\n",
              "      <td>1</td>\n",
              "      <td>1</td>\n",
              "      <td>1</td>\n",
              "      <td>1</td>\n",
              "      <td>0</td>\n",
              "    </tr>\n",
              "    <tr>\n",
              "      <td>1419</td>\n",
              "      <td>1575</td>\n",
              "      <td>626</td>\n",
              "      <td>0</td>\n",
              "      <td>None</td>\n",
              "      <td>4</td>\n",
              "      <td>1Fam</td>\n",
              "      <td>TA</td>\n",
              "      <td>Av</td>\n",
              "      <td>0.0</td>\n",
              "      <td>0.0</td>\n",
              "      <td>...</td>\n",
              "      <td>2.0</td>\n",
              "      <td>2898.0</td>\n",
              "      <td>40</td>\n",
              "      <td>1</td>\n",
              "      <td>1</td>\n",
              "      <td>1</td>\n",
              "      <td>1</td>\n",
              "      <td>1</td>\n",
              "      <td>1</td>\n",
              "      <td>0</td>\n",
              "    </tr>\n",
              "    <tr>\n",
              "      <td>1970</td>\n",
              "      <td>2470</td>\n",
              "      <td>0</td>\n",
              "      <td>0</td>\n",
              "      <td>None</td>\n",
              "      <td>1</td>\n",
              "      <td>1Fam</td>\n",
              "      <td>TA</td>\n",
              "      <td>Gd</td>\n",
              "      <td>2257.0</td>\n",
              "      <td>0.0</td>\n",
              "      <td>...</td>\n",
              "      <td>3.5</td>\n",
              "      <td>5005.0</td>\n",
              "      <td>5</td>\n",
              "      <td>1</td>\n",
              "      <td>1</td>\n",
              "      <td>1</td>\n",
              "      <td>1</td>\n",
              "      <td>1</td>\n",
              "      <td>1</td>\n",
              "      <td>1</td>\n",
              "    </tr>\n",
              "    <tr>\n",
              "      <td>2569</td>\n",
              "      <td>2726</td>\n",
              "      <td>0</td>\n",
              "      <td>0</td>\n",
              "      <td>None</td>\n",
              "      <td>2</td>\n",
              "      <td>1Fam</td>\n",
              "      <td>TA</td>\n",
              "      <td>No</td>\n",
              "      <td>0.0</td>\n",
              "      <td>0.0</td>\n",
              "      <td>...</td>\n",
              "      <td>2.5</td>\n",
              "      <td>3005.0</td>\n",
              "      <td>21</td>\n",
              "      <td>1</td>\n",
              "      <td>1</td>\n",
              "      <td>1</td>\n",
              "      <td>1</td>\n",
              "      <td>1</td>\n",
              "      <td>1</td>\n",
              "      <td>0</td>\n",
              "    </tr>\n",
              "    <tr>\n",
              "      <td>2706</td>\n",
              "      <td>2151</td>\n",
              "      <td>495</td>\n",
              "      <td>0</td>\n",
              "      <td>None</td>\n",
              "      <td>3</td>\n",
              "      <td>1Fam</td>\n",
              "      <td>TA</td>\n",
              "      <td>Gd</td>\n",
              "      <td>1023.0</td>\n",
              "      <td>497.0</td>\n",
              "      <td>...</td>\n",
              "      <td>4.0</td>\n",
              "      <td>4394.0</td>\n",
              "      <td>32</td>\n",
              "      <td>1</td>\n",
              "      <td>1</td>\n",
              "      <td>1</td>\n",
              "      <td>1</td>\n",
              "      <td>1</td>\n",
              "      <td>1</td>\n",
              "      <td>0</td>\n",
              "    </tr>\n",
              "  </tbody>\n",
              "</table>\n",
              "<p>9 rows × 92 columns</p>\n",
              "</div>"
            ],
            "text/plain": [
              "      1stFlrSF  2ndFlrSF  3SsnPorch Alley  BedroomAbvGr BldgType BsmtCond  \\\n",
              "196       1360      1360          0  None             4     1Fam       TA   \n",
              "808       1309         0          0  None             3     1Fam       TA   \n",
              "1167      1118         0          0  None             3     1Fam       TA   \n",
              "1179      2411      2065          0  None             4     1Fam       TA   \n",
              "1382      1392      1392          0  None             5     1Fam       TA   \n",
              "1419      1575       626          0  None             4     1Fam       TA   \n",
              "1970      2470         0          0  None             1     1Fam       TA   \n",
              "2569      2726         0          0  None             2     1Fam       TA   \n",
              "2706      2151       495          0  None             3     1Fam       TA   \n",
              "\n",
              "     BsmtExposure  BsmtFinSF1  BsmtFinSF2  ... TotalBaths TotalSF  Age  \\\n",
              "196            No      1036.0       184.0  ...        3.5  4472.0   88   \n",
              "808            No       663.0       377.0  ...        2.5  2349.0   32   \n",
              "1167           Av       522.0         0.0  ...        2.0  2214.0   31   \n",
              "1179           Av      2096.0         0.0  ...        4.5  6872.0   11   \n",
              "1382           No       790.0       469.0  ...        4.5  4176.0   28   \n",
              "1419           Av         0.0         0.0  ...        2.0  2898.0   40   \n",
              "1970           Gd      2257.0         0.0  ...        3.5  5005.0    5   \n",
              "2569           No         0.0         0.0  ...        2.5  3005.0   21   \n",
              "2706           Gd      1023.0       497.0  ...        4.0  4394.0   32   \n",
              "\n",
              "      HasPool HasGarage  HasFireplace HasBasement AllStoriesFinished  \\\n",
              "196         1         1             1           1                  1   \n",
              "808         1         1             1           1                  1   \n",
              "1167        1         1             1           1                  1   \n",
              "1179        1         1             1           1                  1   \n",
              "1382        1         1             1           1                  1   \n",
              "1419        1         1             1           1                  1   \n",
              "1970        1         1             1           1                  1   \n",
              "2569        1         1             1           1                  1   \n",
              "2706        1         1             1           1                  1   \n",
              "\n",
              "     CanHold2Cars AfterCrisis  \n",
              "196             1           0  \n",
              "808             1           0  \n",
              "1167            0           1  \n",
              "1179            1           0  \n",
              "1382            1           0  \n",
              "1419            1           0  \n",
              "1970            1           1  \n",
              "2569            1           0  \n",
              "2706            1           0  \n",
              "\n",
              "[9 rows x 92 columns]"
            ]
          },
          "metadata": {
            "tags": []
          },
          "execution_count": 42
        }
      ]
    },
    {
      "cell_type": "code",
      "metadata": {
        "id": "MCWFdunfkeq-",
        "colab_type": "code",
        "colab": {}
      },
      "source": [
        "df, y, nas = proc_df(dfNew, 'SalePrice', max_n_cat=7)"
      ],
      "execution_count": 0,
      "outputs": []
    },
    {
      "cell_type": "code",
      "metadata": {
        "id": "1VPdB5mTkerA",
        "colab_type": "code",
        "colab": {}
      },
      "source": [
        "dfT = df[1456:]\n",
        "df = df[:1456]\n",
        "y = y[:1456]"
      ],
      "execution_count": 0,
      "outputs": []
    },
    {
      "cell_type": "code",
      "metadata": {
        "id": "rri8vbDtkerC",
        "colab_type": "code",
        "colab": {},
        "outputId": "ad5aa1f9-d559-49b2-8559-81e5d119ccfd"
      },
      "source": [
        "n_valid = 356 \n",
        "n_trn = len(df)-n_valid #1459\n",
        "\n",
        "X_train, X_valid = split_vals(df, n_trn)\n",
        "y_train, y_valid = split_vals(y, n_trn)\n",
        "\n",
        "def rmse(x,y): return math.sqrt(((x-y)**2).mean())\n",
        "\n",
        "def print_score(m):\n",
        "    res = [rmse(m.predict(X_train), y_train), rmse(m.predict(X_valid), y_valid),\n",
        "                m.score(X_train, y_train), m.score(X_valid, y_valid)]\n",
        "    if hasattr(m, 'oob_score_'): res.append(m.oob_score_)\n",
        "    print(res)\n",
        "\n",
        "X_train.shape, y_train.shape, X_valid.shape, y_valid.shape"
      ],
      "execution_count": 0,
      "outputs": [
        {
          "output_type": "execute_result",
          "data": {
            "text/plain": [
              "((1100, 275), (1100,), (356, 275), (356,))"
            ]
          },
          "metadata": {
            "tags": []
          },
          "execution_count": 110
        }
      ]
    },
    {
      "cell_type": "code",
      "metadata": {
        "id": "RsXMIMbbkerE",
        "colab_type": "code",
        "colab": {},
        "outputId": "922cb6e4-7bd7-438c-c5c6-7e65c513f31c"
      },
      "source": [
        "m = RandomForestRegressor(n_estimators=80, min_samples_leaf=1, max_features=0.5, n_jobs=-1, oob_score=True)\n",
        "m.fit(X_train, y_train)\n",
        "print_score(m)"
      ],
      "execution_count": 0,
      "outputs": [
        {
          "output_type": "stream",
          "text": [
            "[0.0511832660071272, 0.13207726538363737, 0.9838588554066893, 0.8815980756107595, 0.8821149184624403]\n"
          ],
          "name": "stdout"
        }
      ]
    },
    {
      "cell_type": "code",
      "metadata": {
        "id": "vEvJ3SXjkerG",
        "colab_type": "code",
        "colab": {},
        "outputId": "0f5c199b-57c1-4cef-803b-94982d889c12"
      },
      "source": [
        "fi = rf_feat_importance(m, df); fi[:10]\n"
      ],
      "execution_count": 0,
      "outputs": [
        {
          "output_type": "execute_result",
          "data": {
            "text/html": [
              "<div>\n",
              "<style scoped>\n",
              "    .dataframe tbody tr th:only-of-type {\n",
              "        vertical-align: middle;\n",
              "    }\n",
              "\n",
              "    .dataframe tbody tr th {\n",
              "        vertical-align: top;\n",
              "    }\n",
              "\n",
              "    .dataframe thead th {\n",
              "        text-align: right;\n",
              "    }\n",
              "</style>\n",
              "<table border=\"1\" class=\"dataframe\">\n",
              "  <thead>\n",
              "    <tr style=\"text-align: right;\">\n",
              "      <th></th>\n",
              "      <th>cols</th>\n",
              "      <th>imp</th>\n",
              "    </tr>\n",
              "  </thead>\n",
              "  <tbody>\n",
              "    <tr>\n",
              "      <td>47</td>\n",
              "      <td>TotalSF</td>\n",
              "      <td>0.291637</td>\n",
              "    </tr>\n",
              "    <tr>\n",
              "      <td>33</td>\n",
              "      <td>OverallQual</td>\n",
              "      <td>0.263627</td>\n",
              "    </tr>\n",
              "    <tr>\n",
              "      <td>44</td>\n",
              "      <td>TotalFloorsSF</td>\n",
              "      <td>0.057722</td>\n",
              "    </tr>\n",
              "    <tr>\n",
              "      <td>41</td>\n",
              "      <td>YearBuilt</td>\n",
              "      <td>0.048234</td>\n",
              "    </tr>\n",
              "    <tr>\n",
              "      <td>48</td>\n",
              "      <td>Age</td>\n",
              "      <td>0.038238</td>\n",
              "    </tr>\n",
              "    <tr>\n",
              "      <td>19</td>\n",
              "      <td>GrLivArea</td>\n",
              "      <td>0.025444</td>\n",
              "    </tr>\n",
              "    <tr>\n",
              "      <td>46</td>\n",
              "      <td>TotalBaths</td>\n",
              "      <td>0.023196</td>\n",
              "    </tr>\n",
              "    <tr>\n",
              "      <td>17</td>\n",
              "      <td>GarageCars</td>\n",
              "      <td>0.021799</td>\n",
              "    </tr>\n",
              "    <tr>\n",
              "      <td>16</td>\n",
              "      <td>GarageArea</td>\n",
              "      <td>0.017447</td>\n",
              "    </tr>\n",
              "    <tr>\n",
              "      <td>0</td>\n",
              "      <td>1stFlrSF</td>\n",
              "      <td>0.014598</td>\n",
              "    </tr>\n",
              "  </tbody>\n",
              "</table>\n",
              "</div>"
            ],
            "text/plain": [
              "             cols       imp\n",
              "47        TotalSF  0.291637\n",
              "33    OverallQual  0.263627\n",
              "44  TotalFloorsSF  0.057722\n",
              "41      YearBuilt  0.048234\n",
              "48            Age  0.038238\n",
              "19      GrLivArea  0.025444\n",
              "46     TotalBaths  0.023196\n",
              "17     GarageCars  0.021799\n",
              "16     GarageArea  0.017447\n",
              "0        1stFlrSF  0.014598"
            ]
          },
          "metadata": {
            "tags": []
          },
          "execution_count": 55
        }
      ]
    },
    {
      "cell_type": "code",
      "metadata": {
        "id": "yyYXhkBYkerI",
        "colab_type": "code",
        "colab": {}
      },
      "source": [
        "df1, y1, nas1 = proc_df(dfNew, 'SalePrice', max_n_cat=7)\n",
        "\n",
        "df1 = df1[1456: ]"
      ],
      "execution_count": 0,
      "outputs": []
    },
    {
      "cell_type": "code",
      "metadata": {
        "id": "ALn8DfaCkerL",
        "colab_type": "code",
        "colab": {},
        "outputId": "e414619b-d4fb-4cac-b1db-8142ed7adab2"
      },
      "source": [
        "dfTrain = dfNew[:1456]\n",
        "dfTest = dfNew[1456:]\n",
        "dfTest.drop('SalePrice', axis=1, inplace=True)\n",
        "sub = m.predict(df1)\n",
        "len(sub)"
      ],
      "execution_count": 0,
      "outputs": [
        {
          "output_type": "stream",
          "text": [
            "C:\\Users\\M.Hamza.Naveed\\Anaconda3\\lib\\site-packages\\pandas\\core\\frame.py:4102: SettingWithCopyWarning: \n",
            "A value is trying to be set on a copy of a slice from a DataFrame\n",
            "\n",
            "See the caveats in the documentation: http://pandas.pydata.org/pandas-docs/stable/user_guide/indexing.html#returning-a-view-versus-a-copy\n",
            "  errors=errors,\n"
          ],
          "name": "stderr"
        },
        {
          "output_type": "execute_result",
          "data": {
            "text/plain": [
              "1459"
            ]
          },
          "metadata": {
            "tags": []
          },
          "execution_count": 68
        }
      ]
    },
    {
      "cell_type": "code",
      "metadata": {
        "id": "4BPdvzm_kerP",
        "colab_type": "code",
        "colab": {},
        "outputId": "1bfea866-4583-45cb-cbc1-517831624b7b"
      },
      "source": [
        "submission"
      ],
      "execution_count": 0,
      "outputs": [
        {
          "output_type": "execute_result",
          "data": {
            "text/html": [
              "<div>\n",
              "<style scoped>\n",
              "    .dataframe tbody tr th:only-of-type {\n",
              "        vertical-align: middle;\n",
              "    }\n",
              "\n",
              "    .dataframe tbody tr th {\n",
              "        vertical-align: top;\n",
              "    }\n",
              "\n",
              "    .dataframe thead th {\n",
              "        text-align: right;\n",
              "    }\n",
              "</style>\n",
              "<table border=\"1\" class=\"dataframe\">\n",
              "  <thead>\n",
              "    <tr style=\"text-align: right;\">\n",
              "      <th></th>\n",
              "      <th>Id</th>\n",
              "      <th>SalePrice</th>\n",
              "    </tr>\n",
              "  </thead>\n",
              "  <tbody>\n",
              "    <tr>\n",
              "      <td>0</td>\n",
              "      <td>1461</td>\n",
              "      <td>11.700476</td>\n",
              "    </tr>\n",
              "    <tr>\n",
              "      <td>1</td>\n",
              "      <td>1462</td>\n",
              "      <td>11.980274</td>\n",
              "    </tr>\n",
              "    <tr>\n",
              "      <td>2</td>\n",
              "      <td>1463</td>\n",
              "      <td>12.120298</td>\n",
              "    </tr>\n",
              "    <tr>\n",
              "      <td>3</td>\n",
              "      <td>1464</td>\n",
              "      <td>12.183289</td>\n",
              "    </tr>\n",
              "    <tr>\n",
              "      <td>4</td>\n",
              "      <td>1465</td>\n",
              "      <td>12.148497</td>\n",
              "    </tr>\n",
              "    <tr>\n",
              "      <td>...</td>\n",
              "      <td>...</td>\n",
              "      <td>...</td>\n",
              "    </tr>\n",
              "    <tr>\n",
              "      <td>1454</td>\n",
              "      <td>2915</td>\n",
              "      <td>11.349345</td>\n",
              "    </tr>\n",
              "    <tr>\n",
              "      <td>1455</td>\n",
              "      <td>2916</td>\n",
              "      <td>11.383515</td>\n",
              "    </tr>\n",
              "    <tr>\n",
              "      <td>1456</td>\n",
              "      <td>2917</td>\n",
              "      <td>11.941095</td>\n",
              "    </tr>\n",
              "    <tr>\n",
              "      <td>1457</td>\n",
              "      <td>2918</td>\n",
              "      <td>11.697690</td>\n",
              "    </tr>\n",
              "    <tr>\n",
              "      <td>1458</td>\n",
              "      <td>2919</td>\n",
              "      <td>12.340416</td>\n",
              "    </tr>\n",
              "  </tbody>\n",
              "</table>\n",
              "<p>1459 rows × 2 columns</p>\n",
              "</div>"
            ],
            "text/plain": [
              "        Id  SalePrice\n",
              "0     1461  11.700476\n",
              "1     1462  11.980274\n",
              "2     1463  12.120298\n",
              "3     1464  12.183289\n",
              "4     1465  12.148497\n",
              "...    ...        ...\n",
              "1454  2915  11.349345\n",
              "1455  2916  11.383515\n",
              "1456  2917  11.941095\n",
              "1457  2918  11.697690\n",
              "1458  2919  12.340416\n",
              "\n",
              "[1459 rows x 2 columns]"
            ]
          },
          "metadata": {
            "tags": []
          },
          "execution_count": 100
        }
      ]
    },
    {
      "cell_type": "code",
      "metadata": {
        "id": "1NFEIHuZkerS",
        "colab_type": "code",
        "colab": {},
        "outputId": "6f895aa5-0c44-4c02-9402-d44fed6d3052"
      },
      "source": [
        "dfT.shape"
      ],
      "execution_count": 0,
      "outputs": [
        {
          "output_type": "execute_result",
          "data": {
            "text/plain": [
              "(1459, 275)"
            ]
          },
          "metadata": {
            "tags": []
          },
          "execution_count": 112
        }
      ]
    },
    {
      "cell_type": "code",
      "metadata": {
        "id": "zC2494ASkerT",
        "colab_type": "code",
        "colab": {}
      },
      "source": [
        "sub = m.predict(dfT)\n",
        "sub =np.expm1(sub)\n",
        "submission = pd.DataFrame()\n",
        "submission['Id'] = ID\n",
        "submission['SalePrice'] = sub\n",
        "submission.head()\n",
        "submission.to_csv(\"myBestSub2.csv\", index=False)"
      ],
      "execution_count": 0,
      "outputs": []
    },
    {
      "cell_type": "code",
      "metadata": {
        "id": "sH4zC8gvkerV",
        "colab_type": "code",
        "colab": {}
      },
      "source": [
        "m = RandomForestRegressor(n_estimators=80, min_samples_leaf=3, n_jobs=-1,max_features=0.5, oob_score=True)\n",
        "m.fit(X_train, y_train)\n",
        "print_score(m)"
      ],
      "execution_count": 0,
      "outputs": []
    },
    {
      "cell_type": "code",
      "metadata": {
        "id": "8e8vq7U_kerX",
        "colab_type": "code",
        "colab": {}
      },
      "source": [
        "y =np.concatenate((y, ySal.SalePrice.values))"
      ],
      "execution_count": 0,
      "outputs": []
    },
    {
      "cell_type": "code",
      "metadata": {
        "id": "flGjGhEAkerZ",
        "colab_type": "code",
        "colab": {}
      },
      "source": [
        "dfNew.SalePrice = y"
      ],
      "execution_count": 0,
      "outputs": []
    },
    {
      "cell_type": "code",
      "metadata": {
        "id": "quZQzGC6kerb",
        "colab_type": "code",
        "colab": {}
      },
      "source": [
        "y = dfNew.SalePrice\n",
        "y = y[:1456]"
      ],
      "execution_count": 0,
      "outputs": []
    },
    {
      "cell_type": "code",
      "metadata": {
        "id": "lIUHoSN0kerd",
        "colab_type": "code",
        "colab": {}
      },
      "source": [
        "ySal.SalePrice = np.log(ySal.SalePrice)"
      ],
      "execution_count": 0,
      "outputs": []
    }
  ]
}